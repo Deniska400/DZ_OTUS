{
  "cells": [
    {
      "cell_type": "markdown",
      "metadata": {
        "id": "n_eHsslMMoEn"
      },
      "source": [
        "# <center> Homework 1 </center>"
      ]
    },
    {
      "cell_type": "markdown",
      "metadata": {
        "id": "3Oq8XJtxMoEp"
      },
      "source": [
        "# 0. Где мы сейчас?\n",
        "<img src=\"https://upload.wikimedia.org/wikipedia/commons/thumb/3/38/Jupyter_logo.svg/1200px-Jupyter_logo.svg.png\" width=\"150\">\n",
        "\n",
        "[Jupyter Notebook](https://jupyter.org/) - интерактивная среда для запуска программного кода в браузере. Удобный инструмент для анализа данных, который используется многими специалистами по data science. Позволяет выполнять отдельные ячейки с кодом, а не всю программу сразу, что очень удобно при знакомстве с данными."
      ]
    },
    {
      "cell_type": "markdown",
      "metadata": {
        "id": "NTFHFir3MoEq"
      },
      "source": [
        "# 1. Python\n",
        "> Python - это свободный интерпретируемый объектно-ориентированный расширяемый встраиваемый язык программирования очень высокого уровня\n",
        "\n",
        ">*(Г.Россум, Ф.Л.Дж.Дрейк, Д.С.Откидач \"Язык программирования Python\").*\n",
        "\n",
        "А если без цитат, то питон - это просто очень крутой язык, созданный в 1991 году [Великодушным пожизненным диктатором](https://ru.wikipedia.org/wiki/%D0%92%D0%B5%D0%BB%D0%B8%D0%BA%D0%BE%D0%B4%D1%83%D1%88%D0%BD%D1%8B%D0%B9_%D0%BF%D0%BE%D0%B6%D0%B8%D0%B7%D0%BD%D0%B5%D0%BD%D0%BD%D1%8B%D0%B9_%D0%B4%D0%B8%D0%BA%D1%82%D0%B0%D1%82%D0%BE%D1%80) Гвидо ван Россумом и названный в честь любимого им шоу [Monty Python's Flying Circus](https://en.wikipedia.org/wiki/Monty_Python%27s_Flying_Circus)\n",
        "\n",
        "<img src=\"https://advancelocal-adapter-image-uploads.s3.amazonaws.com/image.oregonlive.com/home/olive-media/width2048/img/tv/photo/2018/10/10/montycastjpg-7ef393e2355a42aa.jpg\" width=\"300\">"
      ]
    },
    {
      "cell_type": "markdown",
      "metadata": {
        "id": "fOkwCs6aMoEq"
      },
      "source": [
        "# 2. Anaconda\n",
        "\n",
        "<img src=\"https://cdn-images-1.medium.com/max/1600/0*MVkCW8_Bmj-nuAnI.png\" width=\"300\">\n",
        "\n",
        "[Сборка Anaconda](https://www.anaconda.com/products/individual) включает очень много полезных библиотек для анализа данных.\n",
        "\n",
        "Среди наиболее популярных библиотек:\n",
        " - <a href=\"http://numpy.org\">Numpy</a> - это один из основных пакетов для математических вычислений. Он содержит средства для работы с многомерными массивами и высокоуровневыми математическими функциями\n",
        " - <a href=\"https://www.scipy.org/\">SciPy</a> - научные вычисления. Методы оптимизации, интегрирования, модули обработки сигналов и изображений, статистика, линейная алгебра, сплайны, кластеризация и многое другое\n",
        " -  <a href=\"http://pandas.pydata.org/\">Pandas</a> - основная библиотека для обработки и анализа данных. Предназначена для данных разной природы - матричных, панельных данных, временных рядов. Претендует на звание самого мощного и гибкого средства для анализа данных с открытым исходным кодом\n",
        " - <a href=\"http://scikit-learn.org/stable/\">Scikit-learn</a> - реализация очень многих методов машинного обучения с отличной документацией.\n",
        " - <a href=\"http://http://matplotlib.org/\">matplotlib</a> - хорошая библиотека для визуализации данных"
      ]
    },
    {
      "cell_type": "markdown",
      "metadata": {
        "id": "G3ANgFMjMoEr"
      },
      "source": [
        "# 3. Задачки"
      ]
    },
    {
      "cell_type": "markdown",
      "metadata": {
        "id": "1w5eKetsMoEr"
      },
      "source": [
        "## Задача 1\n",
        "$N$ хоббитов делят $K$ кусков эльфийского хлеба поровну, не делящийся нацело остаток остается в корзинке у Сэма. Напишите функцию, которая принимает на вход параметры $N$ и $K$ и возвращает два числа: $x$ - cколько кусков эльфиского хлеба достанется каждому хоббиту, и $y$ - сколько кусков остаётся в корзинке."
      ]
    },
    {
      "cell_type": "code",
      "execution_count": null,
      "metadata": {
        "id": "1JG2cKUcMoEr"
      },
      "outputs": [],
      "source": [
        "def share_bread(N, K):\n",
        "    x = K // N\n",
        "    y = K % N\n",
        "    return x, y\n",
        "\n",
        "# если в функции всё верно, то после выполнения этой строчки, не должно выскакивать ошибок\n",
        "assert share_bread(N=3, K=14) == (4, 2)"
      ]
    },
    {
      "cell_type": "markdown",
      "metadata": {
        "id": "ITiSURMVMoEs"
      },
      "source": [
        "## Задача 2\n",
        "\n",
        "В копях Мории хоббиты нашли стену, на которой высечены разные натуральные числа. Согласно древним сказаниям, это даты сражений. Хоббиты знают, что сражения происходили только по високосным годам. Помогите хоббитам определить, является ли год с данным числом датой великого сражения. Если это так, то верните строку \"YOU SHALL PASS\", иначе верните \"YOU SHALL NOT PASS\". Напомним, что в соответствии с хоббитским календарем, год является високосным, если его номер кратен 4, но не кратен 100, а также если он кратен 400."
      ]
    },
    {
      "cell_type": "code",
      "execution_count": null,
      "metadata": {
        "id": "yfJYqx8BMoEs"
      },
      "outputs": [],
      "source": [
        "def leap_year(year):\n",
        "    if year % 4 and year % 100 or not year % 400:\n",
        "        text_result = 'YOU SHALL NOT PASS'\n",
        "    else:\n",
        "        text_result = 'YOU SHALL PASS'\n",
        "    return text_result\n",
        "\n",
        "\n",
        "assert leap_year(5) == 'YOU SHALL NOT PASS'"
      ]
    },
    {
      "cell_type": "markdown",
      "metadata": {
        "id": "o0Sz-vaLMoEt"
      },
      "source": [
        "## Задача 3\n",
        "<img src=\"http://i0.kym-cdn.com/photos/images/original/001/187/255/5e9.gif\" width=300>\n",
        "Для могущественного магического ритуала Гендальфу необходимо быстро подсчитывать площадь своего амулета, который умеет менять размеры. Известно, что амулет имеет форму треугольника и Гендальф знает длину каждой из сторон. Напишите функцию, которая считает площадь амулета по трем сторонам.  \n",
        "\n",
        "Подсказка: используйте формулу Герона\n",
        "$$ S = \\sqrt{p(p-a)(p-b)(p-c)} $$\n",
        "$$ p = \\frac{a + b + c}{2}$$\n"
      ]
    },
    {
      "cell_type": "code",
      "execution_count": null,
      "metadata": {
        "id": "lhj6AUBdMoEt"
      },
      "outputs": [],
      "source": [
        "def amulet_area(a, b, c):\n",
        "    p = (a + b + c) / 2\n",
        "    S = int((p * (p - a) * (p - b) * (p - c)) ** 0.5)\n",
        "    return S\n",
        "\n",
        "assert amulet_area(3, 4, 5) == 6"
      ]
    },
    {
      "cell_type": "markdown",
      "metadata": {
        "id": "frhqxeXKMoEt"
      },
      "source": [
        "## Задача 4\n",
        "\n",
        "Хоббиты собираются пешком идти до Мордора и им нужно подсчитать расстояние, которое им предстоит пройти. Хоббиты смогли вспомнить сразу несколько метрик расстояния: евклидово, манхэттена и косинусное, так что ваша задача - напистаь функцию под каждую из них. Важное условие - используйте только базовые функции numpy для решения.\n",
        "\n",
        "\n",
        "* Евклидово расстояние\n",
        "$$ d(a, b) = \\sqrt{\\sum_i (a_i - b_i)^2} $$\n",
        "* Расстояние Манхэттена\n",
        "$$ d(a, b) = \\sum_i |a_i - b_i| $$\n",
        "* Косинусное расстояние\n",
        "$$ d(a, b) = 1 - \\frac{a^\\top b}{||a||_2\\cdot||b||_2}$$"
      ]
    },
    {
      "cell_type": "code",
      "execution_count": null,
      "metadata": {
        "id": "jsXXkwXWMoEt"
      },
      "outputs": [],
      "source": [
        "import numpy as np\n",
        "def cal_euclidean(a, b):\n",
        "    distance = np.sqrt(sum(pow(a - b, 2)))\n",
        "    return distance\n",
        "\n",
        "def cal_manhattan(a, b):\n",
        "    distance = sum(abs(a - b))\n",
        "    return distance\n",
        "\n",
        "def cal_cosine(a, b):\n",
        "    m = np.sqrt(np.sum(np.power(a, 2)))\n",
        "    n = np.sqrt(np.sum(np.power(b, 2)))\n",
        "    distance = 1 - np.dot(a.T, b) / (m * n)\n",
        "    return distance"
      ]
    },
    {
      "cell_type": "code",
      "execution_count": null,
      "metadata": {
        "id": "vf6fIAgrMoEu",
        "colab": {
          "base_uri": "https://localhost:8080/"
        },
        "outputId": "2dfa75a8-f142-4335-da9d-8d64038c9449"
      },
      "outputs": [
        {
          "output_type": "stream",
          "name": "stdout",
          "text": [
            "30.033314835362415\n",
            "86\n",
            "1.3241018617760822\n"
          ]
        }
      ],
      "source": [
        "a = np.random.randint(-10, 10, size=10)\n",
        "b = np.random.randint(-10, 10, size=10)\n",
        "print(cal_euclidean(a, b))\n",
        "print(cal_manhattan(a, b))\n",
        "print(cal_cosine(a, b))"
      ]
    },
    {
      "cell_type": "markdown",
      "metadata": {
        "id": "zupSvEAMMoEu"
      },
      "source": [
        "## Задача 5\n",
        "\n",
        "Ну и напоследок, еще немного практики numpy, без которой не обходится ни один хоббит.\n"
      ]
    },
    {
      "cell_type": "markdown",
      "metadata": {
        "id": "PrsL_d8ZMoEu"
      },
      "source": [
        "Создайте случайный array (`np.random.rand()`) длинной 100. Преобразуйте его так, чтобы\n",
        "* Максимальный элемент(ы) был равен 1\n",
        "* Минимальный элемент(ы) был равен 0\n",
        "* Остальные элементы в итнтервале от 0 до 1 остаются прежними"
      ]
    },
    {
      "cell_type": "code",
      "execution_count": null,
      "metadata": {
        "id": "yt7glyaLMoEu",
        "colab": {
          "base_uri": "https://localhost:8080/"
        },
        "outputId": "f2d84938-e68a-499d-94bd-520535a30057"
      },
      "outputs": [
        {
          "output_type": "stream",
          "name": "stdout",
          "text": [
            "1.0 0.0\n",
            "[0.60462053 0.58803372 0.96163137 0.43542173 0.73801014 0.02335345\n",
            " 0.06844762 0.32916516 0.71407469 0.01954619 0.82934939 0.96311808\n",
            " 0.95485315 0.67291047 0.73526291 0.63895568 0.70884632 0.29154108\n",
            " 0.72803277 0.4523147  0.82963224 0.88532552 0.96544907 0.96606623\n",
            " 0.10653849 0.9316779  0.9880999  0.42476434 0.33812883 0.50385307\n",
            " 0.49093005 0.94017918 0.14672905 0.31043154 0.15096609 0.62511398\n",
            " 0.84574486 0.72547821 0.93089348 0.58831746 0.53746046 0.60955996\n",
            " 0.0911141  0.93014858 0.48611625 1.         0.31940162 0.73314752\n",
            " 0.8519965  0.86252566 0.67219749 0.08687758 0.4368084  0.22803193\n",
            " 0.50484316 0.79706406 0.3303865  0.60869158 0.28117702 0.24234595\n",
            " 0.87402048 0.6635592  0.65876696 0.65116965 0.58761056 0.80510964\n",
            " 0.09730297 0.23900099 0.66540932 0.14477807 0.78677066 0.67187394\n",
            " 0.6269268  0.1418017  0.92865661 0.13740325 0.13129073 0.78173909\n",
            " 0.46642824 0.72847175 0.45094682 0.96919214 0.9815162  0.84263885\n",
            " 0.14687342 0.08974198 0.56778182 0.65578907 0.87542623 0.54104952\n",
            " 0.08040538 0.2906784  0.21876943 0.06472952 0.22185236 0.50142482\n",
            " 0.23554573 0.3997335  0.36517075 0.        ]\n"
          ]
        }
      ],
      "source": [
        "import numpy as np\n",
        "my_array = np.random.rand(100)\n",
        "while my_array[my_array.argmax()] > 1:\n",
        "    my_array[my_array.argmax()] = 1\n",
        "my_array[my_array.argmax()] = 1\n",
        "while my_array[my_array.argmin()] < 0:\n",
        "    my_array[my_array.argmin()] = 0\n",
        "my_array[my_array.argmin()] = 0\n",
        "print(np.max(my_array), np.min(my_array))\n",
        "print(my_array)"
      ]
    },
    {
      "cell_type": "markdown",
      "metadata": {
        "id": "2g-FYc_9MoEu"
      },
      "source": [
        "Создайте array размером $5 \\times 6$ с целыми числами в интервале [0,50]. Напечатайте колонку, которая содержит максимальный элемент полученной матрицы"
      ]
    },
    {
      "cell_type": "code",
      "execution_count": null,
      "metadata": {
        "id": "q4dMqDjUMoEu",
        "colab": {
          "base_uri": "https://localhost:8080/"
        },
        "outputId": "0c84b294-2996-4305-b4bd-65fdd2130016"
      },
      "outputs": [
        {
          "output_type": "stream",
          "name": "stdout",
          "text": [
            "Shape:  (5, 6)\n",
            "Array\n",
            "[[32 14 44  7  0 48]\n",
            " [11 38 13 47 37 34]\n",
            " [38 43 43 37 11 31]\n",
            " [39 28 33 33 22 41]\n",
            " [36 16 38 12  5 14]]\n",
            "[48 34 31 41 14]\n"
          ]
        }
      ],
      "source": [
        "import numpy as np\n",
        "my_array = np.random.randint(0, 51, (5, 6))\n",
        "selected_column = my_array[:, np.argmax(my_array.max(axis=0))]\n",
        "print('Shape: ',my_array.shape)\n",
        "print('Array')\n",
        "print(my_array)\n",
        "print(selected_column)"
      ]
    },
    {
      "cell_type": "markdown",
      "metadata": {
        "id": "AgHdeG-6MoEv"
      },
      "source": [
        "Напишите функцию, которая принимает на вохд матрицу (array) X и возвращает все её уникальные строки в виде новой матрицы."
      ]
    },
    {
      "cell_type": "code",
      "execution_count": null,
      "metadata": {
        "id": "_EMDEvOUMoEv"
      },
      "outputs": [],
      "source": [
        "def get_unique_rows(X):\n",
        "    X_unique = np.unique(X, axis=0)\n",
        "    return X_unique"
      ]
    },
    {
      "cell_type": "code",
      "execution_count": null,
      "metadata": {
        "id": "CCnMcfAfMoEv",
        "colab": {
          "base_uri": "https://localhost:8080/"
        },
        "outputId": "727e0036-2477-4076-9d4c-a8b5d4c7979b"
      },
      "outputs": [
        {
          "output_type": "stream",
          "name": "stdout",
          "text": [
            "[[4 5 4]\n",
            " [4 5 4]\n",
            " [4 5 4]\n",
            " [5 4 5]\n",
            " [5 5 5]\n",
            " [4 5 4]\n",
            " [5 4 4]\n",
            " [5 4 5]\n",
            " [4 4 4]\n",
            " [5 4 5]]\n"
          ]
        }
      ],
      "source": [
        "import numpy as np\n",
        "X = np.random.randint(4, 6, size=(10,3))\n",
        "print(X)"
      ]
    },
    {
      "cell_type": "code",
      "execution_count": null,
      "metadata": {
        "id": "vGS_tAZ3MoEv",
        "colab": {
          "base_uri": "https://localhost:8080/"
        },
        "outputId": "b533e11e-8fb8-4a90-b52b-1bf5f6324dca"
      },
      "outputs": [
        {
          "output_type": "execute_result",
          "data": {
            "text/plain": [
              "array([[4, 4, 4],\n",
              "       [4, 5, 4],\n",
              "       [5, 4, 4],\n",
              "       [5, 4, 5],\n",
              "       [5, 5, 5]])"
            ]
          },
          "metadata": {},
          "execution_count": 9
        }
      ],
      "source": [
        "get_unique_rows(X)"
      ]
    }
  ],
  "metadata": {
    "kernelspec": {
      "display_name": "Python 3",
      "language": "python",
      "name": "python3"
    },
    "language_info": {
      "codemirror_mode": {
        "name": "ipython",
        "version": 3
      },
      "file_extension": ".py",
      "mimetype": "text/x-python",
      "name": "python",
      "nbconvert_exporter": "python",
      "pygments_lexer": "ipython3",
      "version": "3.7.6"
    },
    "varInspector": {
      "cols": {
        "lenName": 16,
        "lenType": 16,
        "lenVar": 40
      },
      "kernels_config": {
        "python": {
          "delete_cmd_postfix": "",
          "delete_cmd_prefix": "del ",
          "library": "var_list.py",
          "varRefreshCmd": "print(var_dic_list())"
        },
        "r": {
          "delete_cmd_postfix": ") ",
          "delete_cmd_prefix": "rm(",
          "library": "var_list.r",
          "varRefreshCmd": "cat(var_dic_list()) "
        }
      },
      "types_to_exclude": [
        "module",
        "function",
        "builtin_function_or_method",
        "instance",
        "_Feature"
      ],
      "window_display": false
    },
    "colab": {
      "provenance": []
    }
  },
  "nbformat": 4,
  "nbformat_minor": 0
}